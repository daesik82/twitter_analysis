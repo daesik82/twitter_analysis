{
 "cells": [
  {
   "cell_type": "code",
   "execution_count": 1,
   "metadata": {},
   "outputs": [],
   "source": [
    "# import packages \n",
    "from collections import Counter, defaultdict\n",
    "import csv\n",
    "import itertools\n",
    "import numpy as np\n",
    "import pandas as pd\n",
    "import re\n",
    "import sys\n",
    "\n",
    "from khaiii import KhaiiiApi\n",
    "from tqdm import tqdm"
   ]
  },
  {
   "cell_type": "code",
   "execution_count": 2,
   "metadata": {},
   "outputs": [],
   "source": [
    "# tagging by Khaiii\n",
    "api = KhaiiiApi()"
   ]
  },
  {
   "cell_type": "code",
   "execution_count": 3,
   "metadata": {},
   "outputs": [],
   "source": [
    "# read texts\n",
    "df_contents = pd.read_excel(f\"./target/freq190312_texts.xlsx\", dtype={'texts':str}) #폴더경로 설정필요"
   ]
  },
  {
   "cell_type": "code",
   "execution_count": 4,
   "metadata": {},
   "outputs": [
    {
     "data": {
      "text/html": [
       "<div>\n",
       "<style scoped>\n",
       "    .dataframe tbody tr th:only-of-type {\n",
       "        vertical-align: middle;\n",
       "    }\n",
       "\n",
       "    .dataframe tbody tr th {\n",
       "        vertical-align: top;\n",
       "    }\n",
       "\n",
       "    .dataframe thead th {\n",
       "        text-align: right;\n",
       "    }\n",
       "</style>\n",
       "<table border=\"1\" class=\"dataframe\">\n",
       "  <thead>\n",
       "    <tr style=\"text-align: right;\">\n",
       "      <th></th>\n",
       "      <th>texts</th>\n",
       "    </tr>\n",
       "  </thead>\n",
       "  <tbody>\n",
       "    <tr>\n",
       "      <th>0</th>\n",
       "      <td>중국의 민간 기업이 미사일 개발에 필요한 소재를 북한에 수출했다고 아사히신문이 현지...</td>\n",
       "    </tr>\n",
       "    <tr>\n",
       "      <th>1</th>\n",
       "      <td>국제사회의 제재와 우려에도 불구하고 북한이 6차 핵실험을 감행했습니다. 한반도의 긴...</td>\n",
       "    </tr>\n",
       "    <tr>\n",
       "      <th>2</th>\n",
       "      <td>과학기술정보통신부는 오늘 오전 9시10분쯤 지구 자기장, 즉 지자기의 강력한 교란이...</td>\n",
       "    </tr>\n",
       "    <tr>\n",
       "      <th>3</th>\n",
       "      <td>중국의 대학 연구팀이 지난 3일 북한의 6차 핵실험 위력을 지진 관측 자료를 통해서...</td>\n",
       "    </tr>\n",
       "    <tr>\n",
       "      <th>4</th>\n",
       "      <td>김정은 집권 이후 북한이 부쩍 강조하고 있는 분야가 있습니다. 바로 과학기술입니다....</td>\n",
       "    </tr>\n",
       "  </tbody>\n",
       "</table>\n",
       "</div>"
      ],
      "text/plain": [
       "                                               texts\n",
       "0  중국의 민간 기업이 미사일 개발에 필요한 소재를 북한에 수출했다고 아사히신문이 현지...\n",
       "1  국제사회의 제재와 우려에도 불구하고 북한이 6차 핵실험을 감행했습니다. 한반도의 긴...\n",
       "2  과학기술정보통신부는 오늘 오전 9시10분쯤 지구 자기장, 즉 지자기의 강력한 교란이...\n",
       "3  중국의 대학 연구팀이 지난 3일 북한의 6차 핵실험 위력을 지진 관측 자료를 통해서...\n",
       "4  김정은 집권 이후 북한이 부쩍 강조하고 있는 분야가 있습니다. 바로 과학기술입니다...."
      ]
     },
     "execution_count": 4,
     "metadata": {},
     "output_type": "execute_result"
    }
   ],
   "source": [
    "df_contents.head()"
   ]
  },
  {
   "cell_type": "code",
   "execution_count": 5,
   "metadata": {},
   "outputs": [],
   "source": [
    "def lines2line(text):\n",
    "    sentences = []\n",
    "    text = text.split('.')\n",
    "    #print(text)\n",
    "    for t in text:\n",
    "        t = re.sub(r'[?/~,\"\"()]', '', t)\n",
    "        t = t.strip()\n",
    "    #    print(t)\n",
    "        if t == '':\n",
    "            continue\n",
    "           \n",
    "        sentences.append(t)\n",
    "        \n",
    "    return sentences\n",
    "\n",
    "\n",
    "def k_analyze(sentences):\n",
    "    tags = []\n",
    "    for sentence in sentences:\n",
    "        # tag = []\n",
    "        for word in api.analyze(sentence):\n",
    "            #print(word.lex)\n",
    "            # word.lex 와 단어가 일치하면 저장\n",
    "            if word.lex in e_w:\n",
    "                tags.append(word.lex)\n",
    "            # 형태소가 1개이고 명사면 저장\n",
    "            elif (len(word.morphs)) == 1 and word.morphs[0].tag in nouns:\n",
    "            #    print(word.lex)\n",
    "                tags.append(word.lex)\n",
    "            # 사전의 morphs와 단어가 일치하면 수정 \n",
    "            elif (len(word.morphs)) > 1:\n",
    "                w1 = [str(x) for x in word.morphs]\n",
    "            #    print(w1)\n",
    "                used = False\n",
    "                for w in e_w:\n",
    "                    w2 = [str(x) for x in api.analyze(w)[0].morphs]\n",
    "                    if set(w2) <= set(w1):\n",
    "            #            print(w)\n",
    "                        tags.append(w)\n",
    "                        used = True \n",
    "                        break\n",
    "                    else:\n",
    "                        continue\n",
    "                if used == False:\n",
    "                    for w3 in word.morphs:\n",
    "                        if w3.tag in nouns:\n",
    "                            tags.append(w3.lex)\n",
    "            # 나머진 패스\n",
    "            else:\n",
    "                pass\n",
    "    return tags   \n",
    "\n",
    "\n",
    "def morph_analyze(sentences):\n",
    "    morphs = []\n",
    "    morphs_seperate = []\n",
    "    for sentence in sentences:\n",
    "        for word in api.analyze(sentence):\n",
    "            m = str(word)\n",
    "            morphs.append(m)\n",
    "            for w in word.morphs:\n",
    "                w = str(w)\n",
    "                morphs_seperate.append(w)\n",
    "    \n",
    "    return morphs, morphs_seperate"
   ]
  },
  {
   "cell_type": "code",
   "execution_count": 6,
   "metadata": {},
   "outputs": [],
   "source": [
    "nouns = ['NNP', 'NNG', \"NNG\"]"
   ]
  },
  {
   "cell_type": "code",
   "execution_count": 7,
   "metadata": {},
   "outputs": [],
   "source": [
    "df_contents['lines'] = df_contents['texts'].apply(lambda x: lines2line(x))"
   ]
  },
  {
   "cell_type": "code",
   "execution_count": 8,
   "metadata": {},
   "outputs": [
    {
     "data": {
      "text/html": [
       "<div>\n",
       "<style scoped>\n",
       "    .dataframe tbody tr th:only-of-type {\n",
       "        vertical-align: middle;\n",
       "    }\n",
       "\n",
       "    .dataframe tbody tr th {\n",
       "        vertical-align: top;\n",
       "    }\n",
       "\n",
       "    .dataframe thead th {\n",
       "        text-align: right;\n",
       "    }\n",
       "</style>\n",
       "<table border=\"1\" class=\"dataframe\">\n",
       "  <thead>\n",
       "    <tr style=\"text-align: right;\">\n",
       "      <th></th>\n",
       "      <th>texts</th>\n",
       "      <th>lines</th>\n",
       "    </tr>\n",
       "  </thead>\n",
       "  <tbody>\n",
       "    <tr>\n",
       "      <th>0</th>\n",
       "      <td>중국의 민간 기업이 미사일 개발에 필요한 소재를 북한에 수출했다고 아사히신문이 현지...</td>\n",
       "      <td>[중국의 민간 기업이 미사일 개발에 필요한 소재를 북한에 수출했다고 아사히신문이 현...</td>\n",
       "    </tr>\n",
       "    <tr>\n",
       "      <th>1</th>\n",
       "      <td>국제사회의 제재와 우려에도 불구하고 북한이 6차 핵실험을 감행했습니다. 한반도의 긴...</td>\n",
       "      <td>[국제사회의 제재와 우려에도 불구하고 북한이 6차 핵실험을 감행했습니다, 한반도의 ...</td>\n",
       "    </tr>\n",
       "    <tr>\n",
       "      <th>2</th>\n",
       "      <td>과학기술정보통신부는 오늘 오전 9시10분쯤 지구 자기장, 즉 지자기의 강력한 교란이...</td>\n",
       "      <td>[과학기술정보통신부는 오늘 오전 9시10분쯤 지구 자기장 즉 지자기의 강력한 교란이...</td>\n",
       "    </tr>\n",
       "    <tr>\n",
       "      <th>3</th>\n",
       "      <td>중국의 대학 연구팀이 지난 3일 북한의 6차 핵실험 위력을 지진 관측 자료를 통해서...</td>\n",
       "      <td>[중국의 대학 연구팀이 지난 3일 북한의 6차 핵실험 위력을 지진 관측 자료를 통해...</td>\n",
       "    </tr>\n",
       "    <tr>\n",
       "      <th>4</th>\n",
       "      <td>김정은 집권 이후 북한이 부쩍 강조하고 있는 분야가 있습니다. 바로 과학기술입니다....</td>\n",
       "      <td>[김정은 집권 이후 북한이 부쩍 강조하고 있는 분야가 있습니다, 바로 과학기술입니다...</td>\n",
       "    </tr>\n",
       "  </tbody>\n",
       "</table>\n",
       "</div>"
      ],
      "text/plain": [
       "                                               texts  \\\n",
       "0  중국의 민간 기업이 미사일 개발에 필요한 소재를 북한에 수출했다고 아사히신문이 현지...   \n",
       "1  국제사회의 제재와 우려에도 불구하고 북한이 6차 핵실험을 감행했습니다. 한반도의 긴...   \n",
       "2  과학기술정보통신부는 오늘 오전 9시10분쯤 지구 자기장, 즉 지자기의 강력한 교란이...   \n",
       "3  중국의 대학 연구팀이 지난 3일 북한의 6차 핵실험 위력을 지진 관측 자료를 통해서...   \n",
       "4  김정은 집권 이후 북한이 부쩍 강조하고 있는 분야가 있습니다. 바로 과학기술입니다....   \n",
       "\n",
       "                                               lines  \n",
       "0  [중국의 민간 기업이 미사일 개발에 필요한 소재를 북한에 수출했다고 아사히신문이 현...  \n",
       "1  [국제사회의 제재와 우려에도 불구하고 북한이 6차 핵실험을 감행했습니다, 한반도의 ...  \n",
       "2  [과학기술정보통신부는 오늘 오전 9시10분쯤 지구 자기장 즉 지자기의 강력한 교란이...  \n",
       "3  [중국의 대학 연구팀이 지난 3일 북한의 6차 핵실험 위력을 지진 관측 자료를 통해...  \n",
       "4  [김정은 집권 이후 북한이 부쩍 강조하고 있는 분야가 있습니다, 바로 과학기술입니다...  "
      ]
     },
     "execution_count": 8,
     "metadata": {},
     "output_type": "execute_result"
    }
   ],
   "source": [
    "df_contents.head(5)"
   ]
  },
  {
   "cell_type": "code",
   "execution_count": 9,
   "metadata": {},
   "outputs": [],
   "source": [
    "# Combine all contents\n",
    "all_contents = []\n",
    "for text in df_contents['texts']:\n",
    "    text = text.split('.')\n",
    "    for t in text:\n",
    "        t = re.sub(r'[?/~,\"\"()]', '', t)\n",
    "        t = t.strip()\n",
    "        if t == '':\n",
    "            continue\n",
    "    \n",
    "        all_contents.append(t)"
   ]
  },
  {
   "cell_type": "code",
   "execution_count": 10,
   "metadata": {},
   "outputs": [],
   "source": [
    "# make dictionary\n",
    "df_dict = pd.read_excel(\"./target/freq190312_dict.xlsx\", hearder=None)\n",
    "df_dict = df_dict.rename(columns={'단어': 'words', '빈도': 'frequency'})\n",
    "dict_ls = [i for i in df_dict['words']]"
   ]
  },
  {
   "cell_type": "code",
   "execution_count": 11,
   "metadata": {},
   "outputs": [],
   "source": [
    "complex_words = []\n",
    "dict_words = defaultdict(list)\n",
    "fixed_words = []\n",
    "for word in dict_ls:\n",
    "    if '(' in word:\n",
    "        dict_words['complex_words'].append(word)\n",
    "        complex_words.append(word)\n",
    "        w = re.sub(r'[()]', '', word)\n",
    "        fixed_words.append(w)\n",
    "    else:\n",
    "        dict_words[str(len(word))].append(word)\n",
    "        fixed_words.append(word)"
   ]
  },
  {
   "cell_type": "markdown",
   "metadata": {},
   "source": [
    "### NLP"
   ]
  },
  {
   "cell_type": "code",
   "execution_count": 12,
   "metadata": {},
   "outputs": [],
   "source": [
    "# 기분석 사전 오류수정 \n",
    "error_words = []\n",
    "\n",
    "with open(\"errors.txt\", 'r') as e: \n",
    "    lines = e.readlines()\n",
    "    for line in lines:\n",
    "        line = line.split(\"with\")\n",
    "        if len(line) == 1:\n",
    "            continue\n",
    "        else: \n",
    "            w = line[1]\n",
    "            o, w = w.split(\":\")\n",
    "            w = w.split(\"\\t\")[0]\n",
    "            o = o.split(\"\\t\")[1]\n",
    "            w = w.replace('\"', '').strip()\n",
    "            o = o.replace('\"', '').strip()\n",
    "            error_word = (w, o)\n",
    "            error_words.append(error_word)"
   ]
  },
  {
   "cell_type": "code",
   "execution_count": 13,
   "metadata": {},
   "outputs": [],
   "source": [
    "# 기분석 사전 만들기\n",
    "dict_ls.sort(key=len)\n",
    "e_w = [x[0] for x in error_words] \n",
    "dict_ls_fixed = [x for x in dict_ls if x not in e_w]"
   ]
  },
  {
   "cell_type": "code",
   "execution_count": 14,
   "metadata": {},
   "outputs": [],
   "source": [
    "df_contents['tags'] = np.nan\n",
    "df_contents['morphs'] = np.nan\n",
    "df_contents['mor_sep'] = np.nan"
   ]
  },
  {
   "cell_type": "code",
   "execution_count": 15,
   "metadata": {},
   "outputs": [
    {
     "data": {
      "text/html": [
       "<div>\n",
       "<style scoped>\n",
       "    .dataframe tbody tr th:only-of-type {\n",
       "        vertical-align: middle;\n",
       "    }\n",
       "\n",
       "    .dataframe tbody tr th {\n",
       "        vertical-align: top;\n",
       "    }\n",
       "\n",
       "    .dataframe thead th {\n",
       "        text-align: right;\n",
       "    }\n",
       "</style>\n",
       "<table border=\"1\" class=\"dataframe\">\n",
       "  <thead>\n",
       "    <tr style=\"text-align: right;\">\n",
       "      <th></th>\n",
       "      <th>texts</th>\n",
       "      <th>lines</th>\n",
       "      <th>tags</th>\n",
       "      <th>morphs</th>\n",
       "      <th>mor_sep</th>\n",
       "    </tr>\n",
       "  </thead>\n",
       "  <tbody>\n",
       "    <tr>\n",
       "      <th>0</th>\n",
       "      <td>중국의 민간 기업이 미사일 개발에 필요한 소재를 북한에 수출했다고 아사히신문이 현지...</td>\n",
       "      <td>[중국의 민간 기업이 미사일 개발에 필요한 소재를 북한에 수출했다고 아사히신문이 현...</td>\n",
       "      <td>NaN</td>\n",
       "      <td>NaN</td>\n",
       "      <td>NaN</td>\n",
       "    </tr>\n",
       "    <tr>\n",
       "      <th>1</th>\n",
       "      <td>국제사회의 제재와 우려에도 불구하고 북한이 6차 핵실험을 감행했습니다. 한반도의 긴...</td>\n",
       "      <td>[국제사회의 제재와 우려에도 불구하고 북한이 6차 핵실험을 감행했습니다, 한반도의 ...</td>\n",
       "      <td>NaN</td>\n",
       "      <td>NaN</td>\n",
       "      <td>NaN</td>\n",
       "    </tr>\n",
       "    <tr>\n",
       "      <th>2</th>\n",
       "      <td>과학기술정보통신부는 오늘 오전 9시10분쯤 지구 자기장, 즉 지자기의 강력한 교란이...</td>\n",
       "      <td>[과학기술정보통신부는 오늘 오전 9시10분쯤 지구 자기장 즉 지자기의 강력한 교란이...</td>\n",
       "      <td>NaN</td>\n",
       "      <td>NaN</td>\n",
       "      <td>NaN</td>\n",
       "    </tr>\n",
       "    <tr>\n",
       "      <th>3</th>\n",
       "      <td>중국의 대학 연구팀이 지난 3일 북한의 6차 핵실험 위력을 지진 관측 자료를 통해서...</td>\n",
       "      <td>[중국의 대학 연구팀이 지난 3일 북한의 6차 핵실험 위력을 지진 관측 자료를 통해...</td>\n",
       "      <td>NaN</td>\n",
       "      <td>NaN</td>\n",
       "      <td>NaN</td>\n",
       "    </tr>\n",
       "    <tr>\n",
       "      <th>4</th>\n",
       "      <td>김정은 집권 이후 북한이 부쩍 강조하고 있는 분야가 있습니다. 바로 과학기술입니다....</td>\n",
       "      <td>[김정은 집권 이후 북한이 부쩍 강조하고 있는 분야가 있습니다, 바로 과학기술입니다...</td>\n",
       "      <td>NaN</td>\n",
       "      <td>NaN</td>\n",
       "      <td>NaN</td>\n",
       "    </tr>\n",
       "  </tbody>\n",
       "</table>\n",
       "</div>"
      ],
      "text/plain": [
       "                                               texts  \\\n",
       "0  중국의 민간 기업이 미사일 개발에 필요한 소재를 북한에 수출했다고 아사히신문이 현지...   \n",
       "1  국제사회의 제재와 우려에도 불구하고 북한이 6차 핵실험을 감행했습니다. 한반도의 긴...   \n",
       "2  과학기술정보통신부는 오늘 오전 9시10분쯤 지구 자기장, 즉 지자기의 강력한 교란이...   \n",
       "3  중국의 대학 연구팀이 지난 3일 북한의 6차 핵실험 위력을 지진 관측 자료를 통해서...   \n",
       "4  김정은 집권 이후 북한이 부쩍 강조하고 있는 분야가 있습니다. 바로 과학기술입니다....   \n",
       "\n",
       "                                               lines  tags  morphs  mor_sep  \n",
       "0  [중국의 민간 기업이 미사일 개발에 필요한 소재를 북한에 수출했다고 아사히신문이 현...   NaN     NaN      NaN  \n",
       "1  [국제사회의 제재와 우려에도 불구하고 북한이 6차 핵실험을 감행했습니다, 한반도의 ...   NaN     NaN      NaN  \n",
       "2  [과학기술정보통신부는 오늘 오전 9시10분쯤 지구 자기장 즉 지자기의 강력한 교란이...   NaN     NaN      NaN  \n",
       "3  [중국의 대학 연구팀이 지난 3일 북한의 6차 핵실험 위력을 지진 관측 자료를 통해...   NaN     NaN      NaN  \n",
       "4  [김정은 집권 이후 북한이 부쩍 강조하고 있는 분야가 있습니다, 바로 과학기술입니다...   NaN     NaN      NaN  "
      ]
     },
     "execution_count": 15,
     "metadata": {},
     "output_type": "execute_result"
    }
   ],
   "source": [
    "df_contents.head(5)"
   ]
  },
  {
   "cell_type": "code",
   "execution_count": 16,
   "metadata": {},
   "outputs": [],
   "source": [
    "tqdm.pandas()"
   ]
  },
  {
   "cell_type": "code",
   "execution_count": 17,
   "metadata": {},
   "outputs": [
    {
     "name": "stderr",
     "output_type": "stream",
     "text": [
      "tagging:   0%|          | 0/29195 [00:00<?, ?it/s]/root/miniconda/lib/python3.7/site-packages/ipykernel_launcher.py:2: SettingWithCopyWarning: \n",
      "A value is trying to be set on a copy of a slice from a DataFrame\n",
      "\n",
      "See the caveats in the documentation: http://pandas.pydata.org/pandas-docs/stable/indexing.html#indexing-view-versus-copy\n",
      "  \n",
      "/root/miniconda/lib/python3.7/site-packages/pandas/core/indexing.py:190: SettingWithCopyWarning: \n",
      "A value is trying to be set on a copy of a slice from a DataFrame\n",
      "\n",
      "See the caveats in the documentation: http://pandas.pydata.org/pandas-docs/stable/indexing.html#indexing-view-versus-copy\n",
      "  self._setitem_with_indexer(indexer, value)\n",
      "/root/miniconda/lib/python3.7/site-packages/ipykernel_launcher.py:3: SettingWithCopyWarning: \n",
      "A value is trying to be set on a copy of a slice from a DataFrame\n",
      "\n",
      "See the caveats in the documentation: http://pandas.pydata.org/pandas-docs/stable/indexing.html#indexing-view-versus-copy\n",
      "  This is separate from the ipykernel package so we can avoid doing imports until\n",
      "tagging: 100%|██████████| 29195/29195 [13:31:56<00:00,  1.33s/it]\n"
     ]
    }
   ],
   "source": [
    "for idx in tqdm(range(len(df_contents)), desc='tagging', total=(len(df_contents))):\n",
    "    df_contents['tags'][idx] = k_analyze(df_contents['lines'][idx])\n",
    "    df_contents['morphs'][idx], df_contents['mor_sep'][idx] = morph_analyze(df_contents['lines'][idx])\n",
    "        "
   ]
  },
  {
   "cell_type": "code",
   "execution_count": null,
   "metadata": {},
   "outputs": [],
   "source": [
    "#df_contents['tags'] = df_contents['lines'].progress_apply(lambda x: k_analyze(x))"
   ]
  },
  {
   "cell_type": "code",
   "execution_count": 18,
   "metadata": {},
   "outputs": [
    {
     "data": {
      "text/html": [
       "<div>\n",
       "<style scoped>\n",
       "    .dataframe tbody tr th:only-of-type {\n",
       "        vertical-align: middle;\n",
       "    }\n",
       "\n",
       "    .dataframe tbody tr th {\n",
       "        vertical-align: top;\n",
       "    }\n",
       "\n",
       "    .dataframe thead th {\n",
       "        text-align: right;\n",
       "    }\n",
       "</style>\n",
       "<table border=\"1\" class=\"dataframe\">\n",
       "  <thead>\n",
       "    <tr style=\"text-align: right;\">\n",
       "      <th></th>\n",
       "      <th>texts</th>\n",
       "      <th>lines</th>\n",
       "      <th>tags</th>\n",
       "      <th>morphs</th>\n",
       "      <th>mor_sep</th>\n",
       "    </tr>\n",
       "  </thead>\n",
       "  <tbody>\n",
       "    <tr>\n",
       "      <th>0</th>\n",
       "      <td>중국의 민간 기업이 미사일 개발에 필요한 소재를 북한에 수출했다고 아사히신문이 현지...</td>\n",
       "      <td>[중국의 민간 기업이 미사일 개발에 필요한 소재를 북한에 수출했다고 아사히신문이 현...</td>\n",
       "      <td>[중국, 민간, 기업, 미사일, 개발, 필요, 소재, 북한, 수출, 아사히신, 문,...</td>\n",
       "      <td>[중국의\\t중국/NNP + 의/JKG, 민간\\t민간/NNG, 기업이\\t기업/NNG ...</td>\n",
       "      <td>[중국/NNP, 의/JKG, 민간/NNG, 기업/NNG, 이/JKS, 미사일/NNG...</td>\n",
       "    </tr>\n",
       "    <tr>\n",
       "      <th>1</th>\n",
       "      <td>국제사회의 제재와 우려에도 불구하고 북한이 6차 핵실험을 감행했습니다. 한반도의 긴...</td>\n",
       "      <td>[국제사회의 제재와 우려에도 불구하고 북한이 6차 핵실험을 감행했습니다, 한반도의 ...</td>\n",
       "      <td>[국제, 사회, 제재, 우려, 북한, 핵실험, 감행, 한반도, 긴장감, 때, 오늘,...</td>\n",
       "      <td>[국제사회의\\t국제/NNG + 사회/NNG + 의/JKG, 제재와\\t제재/NNG +...</td>\n",
       "      <td>[국제/NNG, 사회/NNG, 의/JKG, 제재/NNG, 와/JC, 우려/NNG, ...</td>\n",
       "    </tr>\n",
       "    <tr>\n",
       "      <th>2</th>\n",
       "      <td>과학기술정보통신부는 오늘 오전 9시10분쯤 지구 자기장, 즉 지자기의 강력한 교란이...</td>\n",
       "      <td>[과학기술정보통신부는 오늘 오전 9시10분쯤 지구 자기장 즉 지자기의 강력한 교란이...</td>\n",
       "      <td>[과학, 기술, 정보, 통신부, 오늘, 오전, 지구, 자기장, 지자기, 교란, 발생...</td>\n",
       "      <td>[과학기술정보통신부는\\t과학/NNG + 기술/NNG + 정보/NNG + 통신부/NN...</td>\n",
       "      <td>[과학/NNG, 기술/NNG, 정보/NNG, 통신부/NNG, 는/JX, 오늘/NNG...</td>\n",
       "    </tr>\n",
       "    <tr>\n",
       "      <th>3</th>\n",
       "      <td>중국의 대학 연구팀이 지난 3일 북한의 6차 핵실험 위력을 지진 관측 자료를 통해서...</td>\n",
       "      <td>[중국의 대학 연구팀이 지난 3일 북한의 6차 핵실험 위력을 지진 관측 자료를 통해...</td>\n",
       "      <td>[중국, 대학, 연구, 팀, 북한, 핵실험, 위력, 지진, 관측, 자료, 분석, 결...</td>\n",
       "      <td>[중국의\\t중국/NNP + 의/JKG, 대학\\t대학/NNG, 연구팀이\\t연구/NNG...</td>\n",
       "      <td>[중국/NNP, 의/JKG, 대학/NNG, 연구/NNG, 팀/NNG, 이/JKS, ...</td>\n",
       "    </tr>\n",
       "    <tr>\n",
       "      <th>4</th>\n",
       "      <td>김정은 집권 이후 북한이 부쩍 강조하고 있는 분야가 있습니다. 바로 과학기술입니다....</td>\n",
       "      <td>[김정은 집권 이후 북한이 부쩍 강조하고 있는 분야가 있습니다, 바로 과학기술입니다...</td>\n",
       "      <td>[김정, 집권, 이후, 북한, 강조, 분야, 과학, 기술, 북한, 과학자, 우대, ...</td>\n",
       "      <td>[김정은\\t김정/NNP + 은/JX, 집권\\t집권/NNG, 이후\\t이후/NNG, 북...</td>\n",
       "      <td>[김정/NNP, 은/JX, 집권/NNG, 이후/NNG, 북한/NNP, 이/JKS, ...</td>\n",
       "    </tr>\n",
       "  </tbody>\n",
       "</table>\n",
       "</div>"
      ],
      "text/plain": [
       "                                               texts  \\\n",
       "0  중국의 민간 기업이 미사일 개발에 필요한 소재를 북한에 수출했다고 아사히신문이 현지...   \n",
       "1  국제사회의 제재와 우려에도 불구하고 북한이 6차 핵실험을 감행했습니다. 한반도의 긴...   \n",
       "2  과학기술정보통신부는 오늘 오전 9시10분쯤 지구 자기장, 즉 지자기의 강력한 교란이...   \n",
       "3  중국의 대학 연구팀이 지난 3일 북한의 6차 핵실험 위력을 지진 관측 자료를 통해서...   \n",
       "4  김정은 집권 이후 북한이 부쩍 강조하고 있는 분야가 있습니다. 바로 과학기술입니다....   \n",
       "\n",
       "                                               lines  \\\n",
       "0  [중국의 민간 기업이 미사일 개발에 필요한 소재를 북한에 수출했다고 아사히신문이 현...   \n",
       "1  [국제사회의 제재와 우려에도 불구하고 북한이 6차 핵실험을 감행했습니다, 한반도의 ...   \n",
       "2  [과학기술정보통신부는 오늘 오전 9시10분쯤 지구 자기장 즉 지자기의 강력한 교란이...   \n",
       "3  [중국의 대학 연구팀이 지난 3일 북한의 6차 핵실험 위력을 지진 관측 자료를 통해...   \n",
       "4  [김정은 집권 이후 북한이 부쩍 강조하고 있는 분야가 있습니다, 바로 과학기술입니다...   \n",
       "\n",
       "                                                tags  \\\n",
       "0  [중국, 민간, 기업, 미사일, 개발, 필요, 소재, 북한, 수출, 아사히신, 문,...   \n",
       "1  [국제, 사회, 제재, 우려, 북한, 핵실험, 감행, 한반도, 긴장감, 때, 오늘,...   \n",
       "2  [과학, 기술, 정보, 통신부, 오늘, 오전, 지구, 자기장, 지자기, 교란, 발생...   \n",
       "3  [중국, 대학, 연구, 팀, 북한, 핵실험, 위력, 지진, 관측, 자료, 분석, 결...   \n",
       "4  [김정, 집권, 이후, 북한, 강조, 분야, 과학, 기술, 북한, 과학자, 우대, ...   \n",
       "\n",
       "                                              morphs  \\\n",
       "0  [중국의\\t중국/NNP + 의/JKG, 민간\\t민간/NNG, 기업이\\t기업/NNG ...   \n",
       "1  [국제사회의\\t국제/NNG + 사회/NNG + 의/JKG, 제재와\\t제재/NNG +...   \n",
       "2  [과학기술정보통신부는\\t과학/NNG + 기술/NNG + 정보/NNG + 통신부/NN...   \n",
       "3  [중국의\\t중국/NNP + 의/JKG, 대학\\t대학/NNG, 연구팀이\\t연구/NNG...   \n",
       "4  [김정은\\t김정/NNP + 은/JX, 집권\\t집권/NNG, 이후\\t이후/NNG, 북...   \n",
       "\n",
       "                                             mor_sep  \n",
       "0  [중국/NNP, 의/JKG, 민간/NNG, 기업/NNG, 이/JKS, 미사일/NNG...  \n",
       "1  [국제/NNG, 사회/NNG, 의/JKG, 제재/NNG, 와/JC, 우려/NNG, ...  \n",
       "2  [과학/NNG, 기술/NNG, 정보/NNG, 통신부/NNG, 는/JX, 오늘/NNG...  \n",
       "3  [중국/NNP, 의/JKG, 대학/NNG, 연구/NNG, 팀/NNG, 이/JKS, ...  \n",
       "4  [김정/NNP, 은/JX, 집권/NNG, 이후/NNG, 북한/NNP, 이/JKS, ...  "
      ]
     },
     "execution_count": 18,
     "metadata": {},
     "output_type": "execute_result"
    }
   ],
   "source": [
    "df_contents.head(5)"
   ]
  },
  {
   "cell_type": "code",
   "execution_count": 22,
   "metadata": {},
   "outputs": [],
   "source": [
    "df_contents.to_csv('data.csv', index=False)"
   ]
  },
  {
   "cell_type": "code",
   "execution_count": 23,
   "metadata": {},
   "outputs": [],
   "source": [
    "df = pd.read_csv('data.csv')"
   ]
  },
  {
   "cell_type": "code",
   "execution_count": 24,
   "metadata": {},
   "outputs": [
    {
     "data": {
      "text/html": [
       "<div>\n",
       "<style scoped>\n",
       "    .dataframe tbody tr th:only-of-type {\n",
       "        vertical-align: middle;\n",
       "    }\n",
       "\n",
       "    .dataframe tbody tr th {\n",
       "        vertical-align: top;\n",
       "    }\n",
       "\n",
       "    .dataframe thead th {\n",
       "        text-align: right;\n",
       "    }\n",
       "</style>\n",
       "<table border=\"1\" class=\"dataframe\">\n",
       "  <thead>\n",
       "    <tr style=\"text-align: right;\">\n",
       "      <th></th>\n",
       "      <th>texts</th>\n",
       "      <th>lines</th>\n",
       "      <th>tags</th>\n",
       "      <th>morphs</th>\n",
       "      <th>mor_sep</th>\n",
       "    </tr>\n",
       "  </thead>\n",
       "  <tbody>\n",
       "    <tr>\n",
       "      <th>0</th>\n",
       "      <td>중국의 민간 기업이 미사일 개발에 필요한 소재를 북한에 수출했다고 아사히신문이 현지...</td>\n",
       "      <td>['중국의 민간 기업이 미사일 개발에 필요한 소재를 북한에 수출했다고 아사히신문이 ...</td>\n",
       "      <td>['중국', '민간', '기업', '미사일', '개발', '필요', '소재', '북...</td>\n",
       "      <td>['중국의\\t중국/NNP + 의/JKG', '민간\\t민간/NNG', '기업이\\t기업...</td>\n",
       "      <td>['중국/NNP', '의/JKG', '민간/NNG', '기업/NNG', '이/JKS...</td>\n",
       "    </tr>\n",
       "    <tr>\n",
       "      <th>1</th>\n",
       "      <td>국제사회의 제재와 우려에도 불구하고 북한이 6차 핵실험을 감행했습니다. 한반도의 긴...</td>\n",
       "      <td>['국제사회의 제재와 우려에도 불구하고 북한이 6차 핵실험을 감행했습니다', '한반...</td>\n",
       "      <td>['국제', '사회', '제재', '우려', '북한', '핵실험', '감행', '한...</td>\n",
       "      <td>['국제사회의\\t국제/NNG + 사회/NNG + 의/JKG', '제재와\\t제재/NN...</td>\n",
       "      <td>['국제/NNG', '사회/NNG', '의/JKG', '제재/NNG', '와/JC'...</td>\n",
       "    </tr>\n",
       "    <tr>\n",
       "      <th>2</th>\n",
       "      <td>과학기술정보통신부는 오늘 오전 9시10분쯤 지구 자기장, 즉 지자기의 강력한 교란이...</td>\n",
       "      <td>['과학기술정보통신부는 오늘 오전 9시10분쯤 지구 자기장 즉 지자기의 강력한 교란...</td>\n",
       "      <td>['과학', '기술', '정보', '통신부', '오늘', '오전', '지구', '자...</td>\n",
       "      <td>['과학기술정보통신부는\\t과학/NNG + 기술/NNG + 정보/NNG + 통신부/N...</td>\n",
       "      <td>['과학/NNG', '기술/NNG', '정보/NNG', '통신부/NNG', '는/J...</td>\n",
       "    </tr>\n",
       "    <tr>\n",
       "      <th>3</th>\n",
       "      <td>중국의 대학 연구팀이 지난 3일 북한의 6차 핵실험 위력을 지진 관측 자료를 통해서...</td>\n",
       "      <td>['중국의 대학 연구팀이 지난 3일 북한의 6차 핵실험 위력을 지진 관측 자료를 통...</td>\n",
       "      <td>['중국', '대학', '연구', '팀', '북한', '핵실험', '위력', '지진...</td>\n",
       "      <td>['중국의\\t중국/NNP + 의/JKG', '대학\\t대학/NNG', '연구팀이\\t연...</td>\n",
       "      <td>['중국/NNP', '의/JKG', '대학/NNG', '연구/NNG', '팀/NNG...</td>\n",
       "    </tr>\n",
       "    <tr>\n",
       "      <th>4</th>\n",
       "      <td>김정은 집권 이후 북한이 부쩍 강조하고 있는 분야가 있습니다. 바로 과학기술입니다....</td>\n",
       "      <td>['김정은 집권 이후 북한이 부쩍 강조하고 있는 분야가 있습니다', '바로 과학기술...</td>\n",
       "      <td>['김정', '집권', '이후', '북한', '강조', '분야', '과학', '기술...</td>\n",
       "      <td>['김정은\\t김정/NNP + 은/JX', '집권\\t집권/NNG', '이후\\t이후/N...</td>\n",
       "      <td>['김정/NNP', '은/JX', '집권/NNG', '이후/NNG', '북한/NNP...</td>\n",
       "    </tr>\n",
       "  </tbody>\n",
       "</table>\n",
       "</div>"
      ],
      "text/plain": [
       "                                               texts  \\\n",
       "0  중국의 민간 기업이 미사일 개발에 필요한 소재를 북한에 수출했다고 아사히신문이 현지...   \n",
       "1  국제사회의 제재와 우려에도 불구하고 북한이 6차 핵실험을 감행했습니다. 한반도의 긴...   \n",
       "2  과학기술정보통신부는 오늘 오전 9시10분쯤 지구 자기장, 즉 지자기의 강력한 교란이...   \n",
       "3  중국의 대학 연구팀이 지난 3일 북한의 6차 핵실험 위력을 지진 관측 자료를 통해서...   \n",
       "4  김정은 집권 이후 북한이 부쩍 강조하고 있는 분야가 있습니다. 바로 과학기술입니다....   \n",
       "\n",
       "                                               lines  \\\n",
       "0  ['중국의 민간 기업이 미사일 개발에 필요한 소재를 북한에 수출했다고 아사히신문이 ...   \n",
       "1  ['국제사회의 제재와 우려에도 불구하고 북한이 6차 핵실험을 감행했습니다', '한반...   \n",
       "2  ['과학기술정보통신부는 오늘 오전 9시10분쯤 지구 자기장 즉 지자기의 강력한 교란...   \n",
       "3  ['중국의 대학 연구팀이 지난 3일 북한의 6차 핵실험 위력을 지진 관측 자료를 통...   \n",
       "4  ['김정은 집권 이후 북한이 부쩍 강조하고 있는 분야가 있습니다', '바로 과학기술...   \n",
       "\n",
       "                                                tags  \\\n",
       "0  ['중국', '민간', '기업', '미사일', '개발', '필요', '소재', '북...   \n",
       "1  ['국제', '사회', '제재', '우려', '북한', '핵실험', '감행', '한...   \n",
       "2  ['과학', '기술', '정보', '통신부', '오늘', '오전', '지구', '자...   \n",
       "3  ['중국', '대학', '연구', '팀', '북한', '핵실험', '위력', '지진...   \n",
       "4  ['김정', '집권', '이후', '북한', '강조', '분야', '과학', '기술...   \n",
       "\n",
       "                                              morphs  \\\n",
       "0  ['중국의\\t중국/NNP + 의/JKG', '민간\\t민간/NNG', '기업이\\t기업...   \n",
       "1  ['국제사회의\\t국제/NNG + 사회/NNG + 의/JKG', '제재와\\t제재/NN...   \n",
       "2  ['과학기술정보통신부는\\t과학/NNG + 기술/NNG + 정보/NNG + 통신부/N...   \n",
       "3  ['중국의\\t중국/NNP + 의/JKG', '대학\\t대학/NNG', '연구팀이\\t연...   \n",
       "4  ['김정은\\t김정/NNP + 은/JX', '집권\\t집권/NNG', '이후\\t이후/N...   \n",
       "\n",
       "                                             mor_sep  \n",
       "0  ['중국/NNP', '의/JKG', '민간/NNG', '기업/NNG', '이/JKS...  \n",
       "1  ['국제/NNG', '사회/NNG', '의/JKG', '제재/NNG', '와/JC'...  \n",
       "2  ['과학/NNG', '기술/NNG', '정보/NNG', '통신부/NNG', '는/J...  \n",
       "3  ['중국/NNP', '의/JKG', '대학/NNG', '연구/NNG', '팀/NNG...  \n",
       "4  ['김정/NNP', '은/JX', '집권/NNG', '이후/NNG', '북한/NNP...  "
      ]
     },
     "execution_count": 24,
     "metadata": {},
     "output_type": "execute_result"
    }
   ],
   "source": [
    "df.head(5)"
   ]
  },
  {
   "cell_type": "code",
   "execution_count": 89,
   "metadata": {},
   "outputs": [],
   "source": [
    "df_contents['tags_set'] = df_contents['tags'].apply(lambda x: set(x))"
   ]
  },
  {
   "cell_type": "markdown",
   "metadata": {},
   "source": [
    "### Counting"
   ]
  },
  {
   "cell_type": "code",
   "execution_count": 91,
   "metadata": {},
   "outputs": [],
   "source": [
    "df_contents['counter'] = df_contents['tags'].apply(lambda x: Counter(x))\n",
    "df_contents['counter2'] = df_contents['tags_set'].apply(lambda x: Counter(x))"
   ]
  },
  {
   "cell_type": "code",
   "execution_count": 34,
   "metadata": {},
   "outputs": [
    {
     "data": {
      "text/html": [
       "<div>\n",
       "<style scoped>\n",
       "    .dataframe tbody tr th:only-of-type {\n",
       "        vertical-align: middle;\n",
       "    }\n",
       "\n",
       "    .dataframe tbody tr th {\n",
       "        vertical-align: top;\n",
       "    }\n",
       "\n",
       "    .dataframe thead th {\n",
       "        text-align: right;\n",
       "    }\n",
       "</style>\n",
       "<table border=\"1\" class=\"dataframe\">\n",
       "  <thead>\n",
       "    <tr style=\"text-align: right;\">\n",
       "      <th></th>\n",
       "      <th>texts</th>\n",
       "      <th>lines</th>\n",
       "      <th>tags</th>\n",
       "      <th>morphs</th>\n",
       "      <th>mor_sep</th>\n",
       "      <th>counter</th>\n",
       "    </tr>\n",
       "  </thead>\n",
       "  <tbody>\n",
       "    <tr>\n",
       "      <th>0</th>\n",
       "      <td>중국의 민간 기업이 미사일 개발에 필요한 소재를 북한에 수출했다고 아사히신문이 현지...</td>\n",
       "      <td>[중국의 민간 기업이 미사일 개발에 필요한 소재를 북한에 수출했다고 아사히신문이 현...</td>\n",
       "      <td>[중국, 민간, 기업, 미사일, 개발, 필요, 소재, 북한, 수출, 아사히신, 문,...</td>\n",
       "      <td>[중국의\\t중국/NNP + 의/JKG, 민간\\t민간/NNG, 기업이\\t기업/NNG ...</td>\n",
       "      <td>[중국/NNP, 의/JKG, 민간/NNG, 기업/NNG, 이/JKS, 미사일/NNG...</td>\n",
       "      <td>{'중국': 5, '민간': 2, '기업': 5, '미사일': 3, '개발': 3,...</td>\n",
       "    </tr>\n",
       "    <tr>\n",
       "      <th>1</th>\n",
       "      <td>국제사회의 제재와 우려에도 불구하고 북한이 6차 핵실험을 감행했습니다. 한반도의 긴...</td>\n",
       "      <td>[국제사회의 제재와 우려에도 불구하고 북한이 6차 핵실험을 감행했습니다, 한반도의 ...</td>\n",
       "      <td>[국제, 사회, 제재, 우려, 북한, 핵실험, 감행, 한반도, 긴장감, 때, 오늘,...</td>\n",
       "      <td>[국제사회의\\t국제/NNG + 사회/NNG + 의/JKG, 제재와\\t제재/NNG +...</td>\n",
       "      <td>[국제/NNG, 사회/NNG, 의/JKG, 제재/NNG, 와/JC, 우려/NNG, ...</td>\n",
       "      <td>{'국제': 5, '사회': 4, '제재': 13, '우려': 3, '북한': 64...</td>\n",
       "    </tr>\n",
       "    <tr>\n",
       "      <th>2</th>\n",
       "      <td>과학기술정보통신부는 오늘 오전 9시10분쯤 지구 자기장, 즉 지자기의 강력한 교란이...</td>\n",
       "      <td>[과학기술정보통신부는 오늘 오전 9시10분쯤 지구 자기장 즉 지자기의 강력한 교란이...</td>\n",
       "      <td>[과학, 기술, 정보, 통신부, 오늘, 오전, 지구, 자기장, 지자기, 교란, 발생...</td>\n",
       "      <td>[과학기술정보통신부는\\t과학/NNG + 기술/NNG + 정보/NNG + 통신부/NN...</td>\n",
       "      <td>[과학/NNG, 기술/NNG, 정보/NNG, 통신부/NNG, 는/JX, 오늘/NNG...</td>\n",
       "      <td>{'과학': 1, '기술': 1, '정보': 1, '통신부': 1, '오늘': 1,...</td>\n",
       "    </tr>\n",
       "    <tr>\n",
       "      <th>3</th>\n",
       "      <td>중국의 대학 연구팀이 지난 3일 북한의 6차 핵실험 위력을 지진 관측 자료를 통해서...</td>\n",
       "      <td>[중국의 대학 연구팀이 지난 3일 북한의 6차 핵실험 위력을 지진 관측 자료를 통해...</td>\n",
       "      <td>[중국, 대학, 연구, 팀, 북한, 핵실험, 위력, 지진, 관측, 자료, 분석, 결...</td>\n",
       "      <td>[중국의\\t중국/NNP + 의/JKG, 대학\\t대학/NNG, 연구팀이\\t연구/NNG...</td>\n",
       "      <td>[중국/NNP, 의/JKG, 대학/NNG, 연구/NNG, 팀/NNG, 이/JKS, ...</td>\n",
       "      <td>{'중국': 4, '대학': 2, '연구': 3, '팀': 3, '북한': 1, '...</td>\n",
       "    </tr>\n",
       "    <tr>\n",
       "      <th>4</th>\n",
       "      <td>김정은 집권 이후 북한이 부쩍 강조하고 있는 분야가 있습니다. 바로 과학기술입니다....</td>\n",
       "      <td>[김정은 집권 이후 북한이 부쩍 강조하고 있는 분야가 있습니다, 바로 과학기술입니다...</td>\n",
       "      <td>[김정, 집권, 이후, 북한, 강조, 분야, 과학, 기술, 북한, 과학자, 우대, ...</td>\n",
       "      <td>[김정은\\t김정/NNP + 은/JX, 집권\\t집권/NNG, 이후\\t이후/NNG, 북...</td>\n",
       "      <td>[김정/NNP, 은/JX, 집권/NNG, 이후/NNG, 북한/NNP, 이/JKS, ...</td>\n",
       "      <td>{'김정': 5, '집권': 4, '이후': 3, '북한': 17, '강조': 5,...</td>\n",
       "    </tr>\n",
       "  </tbody>\n",
       "</table>\n",
       "</div>"
      ],
      "text/plain": [
       "                                               texts  \\\n",
       "0  중국의 민간 기업이 미사일 개발에 필요한 소재를 북한에 수출했다고 아사히신문이 현지...   \n",
       "1  국제사회의 제재와 우려에도 불구하고 북한이 6차 핵실험을 감행했습니다. 한반도의 긴...   \n",
       "2  과학기술정보통신부는 오늘 오전 9시10분쯤 지구 자기장, 즉 지자기의 강력한 교란이...   \n",
       "3  중국의 대학 연구팀이 지난 3일 북한의 6차 핵실험 위력을 지진 관측 자료를 통해서...   \n",
       "4  김정은 집권 이후 북한이 부쩍 강조하고 있는 분야가 있습니다. 바로 과학기술입니다....   \n",
       "\n",
       "                                               lines  \\\n",
       "0  [중국의 민간 기업이 미사일 개발에 필요한 소재를 북한에 수출했다고 아사히신문이 현...   \n",
       "1  [국제사회의 제재와 우려에도 불구하고 북한이 6차 핵실험을 감행했습니다, 한반도의 ...   \n",
       "2  [과학기술정보통신부는 오늘 오전 9시10분쯤 지구 자기장 즉 지자기의 강력한 교란이...   \n",
       "3  [중국의 대학 연구팀이 지난 3일 북한의 6차 핵실험 위력을 지진 관측 자료를 통해...   \n",
       "4  [김정은 집권 이후 북한이 부쩍 강조하고 있는 분야가 있습니다, 바로 과학기술입니다...   \n",
       "\n",
       "                                                tags  \\\n",
       "0  [중국, 민간, 기업, 미사일, 개발, 필요, 소재, 북한, 수출, 아사히신, 문,...   \n",
       "1  [국제, 사회, 제재, 우려, 북한, 핵실험, 감행, 한반도, 긴장감, 때, 오늘,...   \n",
       "2  [과학, 기술, 정보, 통신부, 오늘, 오전, 지구, 자기장, 지자기, 교란, 발생...   \n",
       "3  [중국, 대학, 연구, 팀, 북한, 핵실험, 위력, 지진, 관측, 자료, 분석, 결...   \n",
       "4  [김정, 집권, 이후, 북한, 강조, 분야, 과학, 기술, 북한, 과학자, 우대, ...   \n",
       "\n",
       "                                              morphs  \\\n",
       "0  [중국의\\t중국/NNP + 의/JKG, 민간\\t민간/NNG, 기업이\\t기업/NNG ...   \n",
       "1  [국제사회의\\t국제/NNG + 사회/NNG + 의/JKG, 제재와\\t제재/NNG +...   \n",
       "2  [과학기술정보통신부는\\t과학/NNG + 기술/NNG + 정보/NNG + 통신부/NN...   \n",
       "3  [중국의\\t중국/NNP + 의/JKG, 대학\\t대학/NNG, 연구팀이\\t연구/NNG...   \n",
       "4  [김정은\\t김정/NNP + 은/JX, 집권\\t집권/NNG, 이후\\t이후/NNG, 북...   \n",
       "\n",
       "                                             mor_sep  \\\n",
       "0  [중국/NNP, 의/JKG, 민간/NNG, 기업/NNG, 이/JKS, 미사일/NNG...   \n",
       "1  [국제/NNG, 사회/NNG, 의/JKG, 제재/NNG, 와/JC, 우려/NNG, ...   \n",
       "2  [과학/NNG, 기술/NNG, 정보/NNG, 통신부/NNG, 는/JX, 오늘/NNG...   \n",
       "3  [중국/NNP, 의/JKG, 대학/NNG, 연구/NNG, 팀/NNG, 이/JKS, ...   \n",
       "4  [김정/NNP, 은/JX, 집권/NNG, 이후/NNG, 북한/NNP, 이/JKS, ...   \n",
       "\n",
       "                                             counter  \n",
       "0  {'중국': 5, '민간': 2, '기업': 5, '미사일': 3, '개발': 3,...  \n",
       "1  {'국제': 5, '사회': 4, '제재': 13, '우려': 3, '북한': 64...  \n",
       "2  {'과학': 1, '기술': 1, '정보': 1, '통신부': 1, '오늘': 1,...  \n",
       "3  {'중국': 4, '대학': 2, '연구': 3, '팀': 3, '북한': 1, '...  \n",
       "4  {'김정': 5, '집권': 4, '이후': 3, '북한': 17, '강조': 5,...  "
      ]
     },
     "execution_count": 34,
     "metadata": {},
     "output_type": "execute_result"
    }
   ],
   "source": [
    "df_contents.head()"
   ]
  },
  {
   "cell_type": "code",
   "execution_count": 65,
   "metadata": {},
   "outputs": [],
   "source": [
    "a = df_contents['counter'][0]\n",
    "b = df_contents['counter'][1]"
   ]
  },
  {
   "cell_type": "code",
   "execution_count": 71,
   "metadata": {},
   "outputs": [
    {
     "name": "stderr",
     "output_type": "stream",
     "text": [
      "Outer Process: 100%|██████████| 29195/29195 [04:09<00:00, 116.98it/s]\n"
     ]
    }
   ],
   "source": [
    "counter_all = Counter()\n",
    "for idx in tqdm(range(len(df_contents)), desc=\"Outer Process\", total=(len(df_contents))):\n",
    "    counter_all += df_contents['counter'][idx]"
   ]
  },
  {
   "cell_type": "code",
   "execution_count": 72,
   "metadata": {},
   "outputs": [
    {
     "data": {
      "text/plain": [
       "121484"
      ]
     },
     "execution_count": 72,
     "metadata": {},
     "output_type": "execute_result"
    }
   ],
   "source": [
    "len(counter_all.keys())"
   ]
  },
  {
   "cell_type": "code",
   "execution_count": 78,
   "metadata": {},
   "outputs": [
    {
     "data": {
      "text/plain": [
       "4999"
      ]
     },
     "execution_count": 78,
     "metadata": {},
     "output_type": "execute_result"
    }
   ],
   "source": [
    "counter_all['중국']"
   ]
  },
  {
   "cell_type": "code",
   "execution_count": 99,
   "metadata": {},
   "outputs": [],
   "source": [
    "dict_counter = {}\n",
    "for word in dict_ls:\n",
    "    if word in counter_all.keys():\n",
    "        dict_counter[word] = counter_all[word]"
   ]
  },
  {
   "cell_type": "code",
   "execution_count": 100,
   "metadata": {},
   "outputs": [
    {
     "data": {
      "text/plain": [
       "4999"
      ]
     },
     "execution_count": 100,
     "metadata": {},
     "output_type": "execute_result"
    }
   ],
   "source": [
    "dict_counter['중국']"
   ]
  },
  {
   "cell_type": "code",
   "execution_count": 101,
   "metadata": {},
   "outputs": [],
   "source": [
    "df_result = pd.DataFrame.from_dict(dict_counter, orient='index', columns=['frequency'])"
   ]
  },
  {
   "cell_type": "code",
   "execution_count": 102,
   "metadata": {},
   "outputs": [
    {
     "data": {
      "text/html": [
       "<div>\n",
       "<style scoped>\n",
       "    .dataframe tbody tr th:only-of-type {\n",
       "        vertical-align: middle;\n",
       "    }\n",
       "\n",
       "    .dataframe tbody tr th {\n",
       "        vertical-align: top;\n",
       "    }\n",
       "\n",
       "    .dataframe thead th {\n",
       "        text-align: right;\n",
       "    }\n",
       "</style>\n",
       "<table border=\"1\" class=\"dataframe\">\n",
       "  <thead>\n",
       "    <tr style=\"text-align: right;\">\n",
       "      <th></th>\n",
       "      <th>frequency</th>\n",
       "    </tr>\n",
       "  </thead>\n",
       "  <tbody>\n",
       "    <tr>\n",
       "      <th>시간</th>\n",
       "      <td>8438</td>\n",
       "    </tr>\n",
       "    <tr>\n",
       "      <th>중국</th>\n",
       "      <td>4999</td>\n",
       "    </tr>\n",
       "    <tr>\n",
       "      <th>우리</th>\n",
       "      <td>123</td>\n",
       "    </tr>\n",
       "    <tr>\n",
       "      <th>발사</th>\n",
       "      <td>10076</td>\n",
       "    </tr>\n",
       "    <tr>\n",
       "      <th>정도</th>\n",
       "      <td>11756</td>\n",
       "    </tr>\n",
       "  </tbody>\n",
       "</table>\n",
       "</div>"
      ],
      "text/plain": [
       "    frequency\n",
       "시간       8438\n",
       "중국       4999\n",
       "우리        123\n",
       "발사      10076\n",
       "정도      11756"
      ]
     },
     "execution_count": 102,
     "metadata": {},
     "output_type": "execute_result"
    }
   ],
   "source": [
    "df_result.head()"
   ]
  },
  {
   "cell_type": "code",
   "execution_count": 92,
   "metadata": {},
   "outputs": [
    {
     "name": "stderr",
     "output_type": "stream",
     "text": [
      "Outer Process: 100%|██████████| 29195/29195 [02:51<00:00, 170.71it/s]\n"
     ]
    }
   ],
   "source": [
    "counter_set = Counter()\n",
    "for idx in tqdm(range(len(df_contents)), desc=\"Outer Process\", total=(len(df_contents))):\n",
    "    counter_set += df_contents['counter2'][idx]"
   ]
  },
  {
   "cell_type": "code",
   "execution_count": 94,
   "metadata": {},
   "outputs": [
    {
     "data": {
      "text/plain": [
       "4"
      ]
     },
     "execution_count": 94,
     "metadata": {},
     "output_type": "execute_result"
    }
   ],
   "source": [
    "counter_set['플라나리아']"
   ]
  },
  {
   "cell_type": "code",
   "execution_count": 97,
   "metadata": {},
   "outputs": [],
   "source": [
    "dict_set_counter = {}\n",
    "for word in dict_ls:\n",
    "    if word in counter_set.keys():\n",
    "        dict_set_counter[word] = counter_set[word]"
   ]
  },
  {
   "cell_type": "code",
   "execution_count": 103,
   "metadata": {},
   "outputs": [],
   "source": [
    "df_result2 = pd.DataFrame.from_dict(dict_set_counter, orient='index', columns=['frequency'])"
   ]
  },
  {
   "cell_type": "code",
   "execution_count": 104,
   "metadata": {},
   "outputs": [
    {
     "data": {
      "text/html": [
       "<div>\n",
       "<style scoped>\n",
       "    .dataframe tbody tr th:only-of-type {\n",
       "        vertical-align: middle;\n",
       "    }\n",
       "\n",
       "    .dataframe tbody tr th {\n",
       "        vertical-align: top;\n",
       "    }\n",
       "\n",
       "    .dataframe thead th {\n",
       "        text-align: right;\n",
       "    }\n",
       "</style>\n",
       "<table border=\"1\" class=\"dataframe\">\n",
       "  <thead>\n",
       "    <tr style=\"text-align: right;\">\n",
       "      <th></th>\n",
       "      <th>frequency</th>\n",
       "    </tr>\n",
       "  </thead>\n",
       "  <tbody>\n",
       "    <tr>\n",
       "      <th>시간</th>\n",
       "      <td>4981</td>\n",
       "    </tr>\n",
       "    <tr>\n",
       "      <th>중국</th>\n",
       "      <td>1990</td>\n",
       "    </tr>\n",
       "    <tr>\n",
       "      <th>우리</th>\n",
       "      <td>98</td>\n",
       "    </tr>\n",
       "    <tr>\n",
       "      <th>발사</th>\n",
       "      <td>1795</td>\n",
       "    </tr>\n",
       "    <tr>\n",
       "      <th>정도</th>\n",
       "      <td>7341</td>\n",
       "    </tr>\n",
       "  </tbody>\n",
       "</table>\n",
       "</div>"
      ],
      "text/plain": [
       "    frequency\n",
       "시간       4981\n",
       "중국       1990\n",
       "우리         98\n",
       "발사       1795\n",
       "정도       7341"
      ]
     },
     "execution_count": 104,
     "metadata": {},
     "output_type": "execute_result"
    }
   ],
   "source": [
    "df_result2.head()"
   ]
  },
  {
   "cell_type": "code",
   "execution_count": 88,
   "metadata": {},
   "outputs": [],
   "source": [
    "df_result.to_excel('result.xlsx', sheet_name='sheet1')"
   ]
  },
  {
   "cell_type": "code",
   "execution_count": 105,
   "metadata": {},
   "outputs": [],
   "source": [
    "df_result2.to_excel('result2.xlsx', sheet_name='sheet1')"
   ]
  },
  {
   "cell_type": "code",
   "execution_count": null,
   "metadata": {},
   "outputs": [],
   "source": []
  }
 ],
 "metadata": {
  "kernelspec": {
   "display_name": "Python 3",
   "language": "python",
   "name": "python3"
  },
  "language_info": {
   "codemirror_mode": {
    "name": "ipython",
    "version": 3
   },
   "file_extension": ".py",
   "mimetype": "text/x-python",
   "name": "python",
   "nbconvert_exporter": "python",
   "pygments_lexer": "ipython3",
   "version": "3.7.1"
  }
 },
 "nbformat": 4,
 "nbformat_minor": 2
}
