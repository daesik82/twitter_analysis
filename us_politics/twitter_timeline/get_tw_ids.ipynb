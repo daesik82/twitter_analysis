{
 "cells": [
  {
   "cell_type": "code",
   "execution_count": 24,
   "metadata": {},
   "outputs": [],
   "source": [
    "from bs4 import BeautifulSoup\n",
    "import pandas as pd\n",
    "import requests"
   ]
  },
  {
   "cell_type": "code",
   "execution_count": 25,
   "metadata": {},
   "outputs": [],
   "source": [
    "df = pd.read_excel('sen_list_116.xlsx')"
   ]
  },
  {
   "cell_type": "code",
   "execution_count": 26,
   "metadata": {},
   "outputs": [
    {
     "data": {
      "text/plain": [
       "Index(['Unnamed: 0', 'name', 'screen_name'], dtype='object')"
      ]
     },
     "execution_count": 26,
     "metadata": {},
     "output_type": "execute_result"
    }
   ],
   "source": [
    "df.keys()"
   ]
  },
  {
   "cell_type": "code",
   "execution_count": 27,
   "metadata": {},
   "outputs": [],
   "source": [
    "names = list(df.name)"
   ]
  },
  {
   "cell_type": "code",
   "execution_count": 29,
   "metadata": {},
   "outputs": [],
   "source": [
    "user_names = [name.replace('@', '') for name in list(df.screen_name)]"
   ]
  },
  {
   "cell_type": "code",
   "execution_count": 30,
   "metadata": {},
   "outputs": [
    {
     "data": {
      "text/plain": [
       "'SenHawleyPress'"
      ]
     },
     "execution_count": 30,
     "metadata": {},
     "output_type": "execute_result"
    }
   ],
   "source": [
    "user_names[0]"
   ]
  },
  {
   "cell_type": "code",
   "execution_count": 31,
   "metadata": {},
   "outputs": [
    {
     "name": "stdout",
     "output_type": "stream",
     "text": [
      "1080960924687704064\n",
      "1080870981877534720\n",
      "1078693601356509184\n",
      "1017500185356853248\n",
      "983348251972816896\n",
      "941080085121175552\n",
      "941000686275387392\n",
      "899978622416695297\n",
      "818554054309715969\n",
      "816683274076614656\n",
      "811313565760163844\n",
      "803694179079458816\n",
      "2964949642\n",
      "2964174789\n",
      "2962923040\n",
      "2955485182\n",
      "2891210047\n",
      "2863210809\n",
      "2856787757\n",
      "2167097881\n",
      "1099199839\n",
      "1096059529\n",
      "1080844782\n",
      "1074518754\n",
      "1074480192\n",
      "1071402577\n",
      "1068481578\n",
      "1058520120\n",
      "1048784496\n",
      "970207298\n",
      "968650362\n",
      "946549322\n",
      "600463589\n",
      "515822213\n",
      "486694111\n",
      "476256944\n",
      "432895323\n",
      "382791093\n",
      "339822881\n",
      "296361085\n",
      "293131808\n",
      "291756142\n",
      "278145569\n",
      "278124059\n",
      "264219447\n",
      "250188760\n",
      "249787913\n",
      "247334603\n",
      "242836537\n",
      "242555999\n",
      "236511574\n",
      "235217558\n",
      "234374703\n",
      "234128524\n",
      "233737858\n",
      "225921757\n",
      "224285242\n",
      "221162525\n",
      "217543151\n",
      "216881337\n",
      "202206694\n",
      "193794406\n",
      "172858784\n",
      "171598736\n",
      "150078976\n",
      "131546062\n",
      "117501995\n",
      "109287731\n",
      "109071031\n",
      "92186819\n",
      "88784440\n",
      "78403308\n",
      "76649729\n",
      "76456274\n",
      "75364211\n",
      "60828944\n",
      "47747074\n",
      "43910797\n",
      "29442313\n",
      "29201047\n",
      "22044727\n",
      "21406834\n",
      "21269970\n",
      "21157904\n",
      "21111098\n",
      "19726613\n",
      "18915145\n",
      "18695134\n",
      "18632666\n",
      "18137749\n",
      "18061669\n",
      "17494010\n",
      "15745368\n",
      "15324851\n",
      "13218102\n",
      "11651202\n",
      "10615232\n",
      "7429102\n",
      "7270292\n",
      "5558312\n"
     ]
    }
   ],
   "source": [
    "user_ids = []\n",
    "for name in user_names:\n",
    "    url = f\"http://gettwitterid.com/?user_name={name}&submit=GET+USER+ID\"\n",
    "    \n",
    "    r = requests.get(url)\n",
    "    html = r.text\n",
    "    \n",
    "    soup = BeautifulSoup(html, 'html.parser')\n",
    "    \n",
    "    user_id = soup.select('p')[2].text\n",
    "    #print(user_id)\n",
    "    \n",
    "    user_ids.append(user_id)\n",
    "    "
   ]
  },
  {
   "cell_type": "code",
   "execution_count": 32,
   "metadata": {},
   "outputs": [
    {
     "data": {
      "text/plain": [
       "['1080960924687704064',\n",
       " '1080870981877534720',\n",
       " '1078693601356509184',\n",
       " '1017500185356853248',\n",
       " '983348251972816896',\n",
       " '941080085121175552',\n",
       " '941000686275387392',\n",
       " '899978622416695297',\n",
       " '818554054309715969',\n",
       " '816683274076614656',\n",
       " '811313565760163844',\n",
       " '803694179079458816',\n",
       " '2964949642',\n",
       " '2964174789',\n",
       " '2962923040',\n",
       " '2955485182',\n",
       " '2891210047',\n",
       " '2863210809',\n",
       " '2856787757',\n",
       " '2167097881',\n",
       " '1099199839',\n",
       " '1096059529',\n",
       " '1080844782',\n",
       " '1074518754',\n",
       " '1074480192',\n",
       " '1071402577',\n",
       " '1068481578',\n",
       " '1058520120',\n",
       " '1048784496',\n",
       " '970207298',\n",
       " '968650362',\n",
       " '946549322',\n",
       " '600463589',\n",
       " '515822213',\n",
       " '486694111',\n",
       " '476256944',\n",
       " '432895323',\n",
       " '382791093',\n",
       " '339822881',\n",
       " '296361085',\n",
       " '293131808',\n",
       " '291756142',\n",
       " '278145569',\n",
       " '278124059',\n",
       " '264219447',\n",
       " '250188760',\n",
       " '249787913',\n",
       " '247334603',\n",
       " '242836537',\n",
       " '242555999',\n",
       " '236511574',\n",
       " '235217558',\n",
       " '234374703',\n",
       " '234128524',\n",
       " '233737858',\n",
       " '225921757',\n",
       " '224285242',\n",
       " '221162525',\n",
       " '217543151',\n",
       " '216881337',\n",
       " '202206694',\n",
       " '193794406',\n",
       " '172858784',\n",
       " '171598736',\n",
       " '150078976',\n",
       " '131546062',\n",
       " '117501995',\n",
       " '109287731',\n",
       " '109071031',\n",
       " '92186819',\n",
       " '88784440',\n",
       " '78403308',\n",
       " '76649729',\n",
       " '76456274',\n",
       " '75364211',\n",
       " '60828944',\n",
       " '47747074',\n",
       " '43910797',\n",
       " '29442313',\n",
       " '29201047',\n",
       " '22044727',\n",
       " '21406834',\n",
       " '21269970',\n",
       " '21157904',\n",
       " '21111098',\n",
       " '19726613',\n",
       " '18915145',\n",
       " '18695134',\n",
       " '18632666',\n",
       " '18137749',\n",
       " '18061669',\n",
       " '17494010',\n",
       " '15745368',\n",
       " '15324851',\n",
       " '13218102',\n",
       " '11651202',\n",
       " '10615232',\n",
       " '7429102',\n",
       " '7270292',\n",
       " '5558312']"
      ]
     },
     "execution_count": 32,
     "metadata": {},
     "output_type": "execute_result"
    }
   ],
   "source": [
    "user_ids"
   ]
  },
  {
   "cell_type": "code",
   "execution_count": 33,
   "metadata": {},
   "outputs": [],
   "source": [
    "sen_116 = {'name': names, 'user_name': user_names, 'user_id': user_ids}"
   ]
  },
  {
   "cell_type": "code",
   "execution_count": 34,
   "metadata": {},
   "outputs": [],
   "source": [
    "df_sen = pd.DataFrame.from_dict(sen_116)"
   ]
  },
  {
   "cell_type": "code",
   "execution_count": 35,
   "metadata": {},
   "outputs": [
    {
     "data": {
      "text/html": [
       "<div>\n",
       "<style scoped>\n",
       "    .dataframe tbody tr th:only-of-type {\n",
       "        vertical-align: middle;\n",
       "    }\n",
       "\n",
       "    .dataframe tbody tr th {\n",
       "        vertical-align: top;\n",
       "    }\n",
       "\n",
       "    .dataframe thead th {\n",
       "        text-align: right;\n",
       "    }\n",
       "</style>\n",
       "<table border=\"1\" class=\"dataframe\">\n",
       "  <thead>\n",
       "    <tr style=\"text-align: right;\">\n",
       "      <th></th>\n",
       "      <th>name</th>\n",
       "      <th>user_name</th>\n",
       "      <th>user_id</th>\n",
       "    </tr>\n",
       "  </thead>\n",
       "  <tbody>\n",
       "    <tr>\n",
       "      <th>0</th>\n",
       "      <td>Hawley Press Office</td>\n",
       "      <td>SenHawleyPress</td>\n",
       "      <td>1080960924687704064</td>\n",
       "    </tr>\n",
       "    <tr>\n",
       "      <th>1</th>\n",
       "      <td>Mike Braun</td>\n",
       "      <td>SenatorBraun</td>\n",
       "      <td>1080870981877534720</td>\n",
       "    </tr>\n",
       "    <tr>\n",
       "      <th>2</th>\n",
       "      <td>Mitt Romney</td>\n",
       "      <td>SenatorRomney</td>\n",
       "      <td>1078693601356509184</td>\n",
       "    </tr>\n",
       "    <tr>\n",
       "      <th>3</th>\n",
       "      <td>Bill Cassidy, M.D.</td>\n",
       "      <td>SenBillCassidy</td>\n",
       "      <td>1017500185356853248</td>\n",
       "    </tr>\n",
       "    <tr>\n",
       "      <th>4</th>\n",
       "      <td>Cindy Hyde-Smith</td>\n",
       "      <td>SenHydeSmith</td>\n",
       "      <td>983348251972816896</td>\n",
       "    </tr>\n",
       "    <tr>\n",
       "      <th>5</th>\n",
       "      <td>Doug Jones</td>\n",
       "      <td>SenDougJones</td>\n",
       "      <td>941080085121175552</td>\n",
       "    </tr>\n",
       "    <tr>\n",
       "      <th>6</th>\n",
       "      <td>Tina Smith</td>\n",
       "      <td>SenTinaSmith</td>\n",
       "      <td>941000686275387392</td>\n",
       "    </tr>\n",
       "    <tr>\n",
       "      <th>7</th>\n",
       "      <td>Kirsten Gillibrand</td>\n",
       "      <td>gillibrandny</td>\n",
       "      <td>899978622416695297</td>\n",
       "    </tr>\n",
       "    <tr>\n",
       "      <th>8</th>\n",
       "      <td>Jacky Rosen</td>\n",
       "      <td>SenJackyRosen</td>\n",
       "      <td>818554054309715969</td>\n",
       "    </tr>\n",
       "    <tr>\n",
       "      <th>9</th>\n",
       "      <td>John Kennedy</td>\n",
       "      <td>SenJohnKennedy</td>\n",
       "      <td>816683274076614656</td>\n",
       "    </tr>\n",
       "  </tbody>\n",
       "</table>\n",
       "</div>"
      ],
      "text/plain": [
       "                  name       user_name              user_id\n",
       "0  Hawley Press Office  SenHawleyPress  1080960924687704064\n",
       "1           Mike Braun    SenatorBraun  1080870981877534720\n",
       "2          Mitt Romney   SenatorRomney  1078693601356509184\n",
       "3   Bill Cassidy, M.D.  SenBillCassidy  1017500185356853248\n",
       "4     Cindy Hyde-Smith    SenHydeSmith   983348251972816896\n",
       "5           Doug Jones    SenDougJones   941080085121175552\n",
       "6           Tina Smith    SenTinaSmith   941000686275387392\n",
       "7   Kirsten Gillibrand    gillibrandny   899978622416695297\n",
       "8          Jacky Rosen   SenJackyRosen   818554054309715969\n",
       "9         John Kennedy  SenJohnKennedy   816683274076614656"
      ]
     },
     "execution_count": 35,
     "metadata": {},
     "output_type": "execute_result"
    }
   ],
   "source": [
    "df_sen.head(10)"
   ]
  },
  {
   "cell_type": "code",
   "execution_count": 36,
   "metadata": {},
   "outputs": [],
   "source": [
    "with open('sen_twids.txt', 'w', encoding='utf-8') as f:\n",
    "    f.write(str(user_ids))"
   ]
  },
  {
   "cell_type": "code",
   "execution_count": 37,
   "metadata": {},
   "outputs": [],
   "source": [
    "df1 = pd.read_excel('rep_twitters.xlsx')"
   ]
  },
  {
   "cell_type": "code",
   "execution_count": 38,
   "metadata": {},
   "outputs": [
    {
     "data": {
      "text/plain": [
       "Index(['name', 'District', 'tw_name'], dtype='object')"
      ]
     },
     "execution_count": 38,
     "metadata": {},
     "output_type": "execute_result"
    }
   ],
   "source": [
    "df1.keys()"
   ]
  },
  {
   "cell_type": "code",
   "execution_count": 39,
   "metadata": {},
   "outputs": [
    {
     "data": {
      "text/plain": [
       "11"
      ]
     },
     "execution_count": 39,
     "metadata": {},
     "output_type": "execute_result"
    }
   ],
   "source": [
    "hrep_names = list(df1.name)\n",
    "len(hrep_names)"
   ]
  },
  {
   "cell_type": "code",
   "execution_count": 41,
   "metadata": {},
   "outputs": [
    {
     "data": {
      "text/plain": [
       "439"
      ]
     },
     "execution_count": 41,
     "metadata": {},
     "output_type": "execute_result"
    }
   ],
   "source": [
    "len(df1)"
   ]
  },
  {
   "cell_type": "code",
   "execution_count": null,
   "metadata": {},
   "outputs": [],
   "source": []
  }
 ],
 "metadata": {
  "kernelspec": {
   "display_name": "Python [conda env:crawl-general]",
   "language": "python",
   "name": "conda-env-crawl-general-py"
  },
  "language_info": {
   "codemirror_mode": {
    "name": "ipython",
    "version": 3
   },
   "file_extension": ".py",
   "mimetype": "text/x-python",
   "name": "python",
   "nbconvert_exporter": "python",
   "pygments_lexer": "ipython3",
   "version": "3.7.3"
  }
 },
 "nbformat": 4,
 "nbformat_minor": 2
}
